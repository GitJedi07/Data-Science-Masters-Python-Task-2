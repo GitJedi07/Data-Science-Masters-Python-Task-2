{
 "cells": [
  {
   "cell_type": "markdown",
   "id": "72b13bf9-0e4d-4007-8cd2-94f295006b6a",
   "metadata": {},
   "source": [
    "# Solution 1:"
   ]
  },
  {
   "cell_type": "code",
   "execution_count": 39,
   "id": "f164bbf4-e44e-4e31-8d54-0123a63c7053",
   "metadata": {},
   "outputs": [
    {
     "name": "stdin",
     "output_type": "stream",
     "text": [
      "Enter a password:  VIve1@#$8h\n"
     ]
    },
    {
     "name": "stdout",
     "output_type": "stream",
     "text": [
      "Valid password\n"
     ]
    }
   ],
   "source": [
    "def password_checker(password):\n",
    "    if len(password) != 10:\n",
    "        return False\n",
    "# creating counters\n",
    "    upper_letters = 0\n",
    "    lower_letters = 0\n",
    "    numbers = 0\n",
    "    special_char = 0\n",
    "# iterating the input and checking according the given criteria\n",
    "    for i in password:\n",
    "        if i.isupper():\n",
    "            upper_letters += 1\n",
    "        elif i.islower():\n",
    "            lower_letters += 1\n",
    "        elif i.isdigit():\n",
    "            numbers += 1\n",
    "        else:\n",
    "            special_char += 1\n",
    "\n",
    "    if upper_letters >= 2 and lower_letters >= 2 and numbers >= 1 and special_char >= 3:\n",
    "        return True\n",
    "    else:\n",
    "        return False\n",
    "\n",
    "# Testing the function\n",
    "password = input(\"Enter a password: \")\n",
    "if password_checker(password):\n",
    "    print(\"Valid password\")\n",
    "else:\n",
    "    print(\"Invalid password\")\n"
   ]
  },
  {
   "cell_type": "markdown",
   "id": "5f99b7ed-d5ec-4431-8d49-e9686225a5e9",
   "metadata": {},
   "source": [
    "# Solution 2:"
   ]
  },
  {
   "cell_type": "code",
   "execution_count": 17,
   "id": "e9256781-8e0c-4ac6-88f7-a39d1df3c802",
   "metadata": {},
   "outputs": [
    {
     "name": "stdin",
     "output_type": "stream",
     "text": [
      "Enter your course name:  mata\n"
     ]
    },
    {
     "data": {
      "text/plain": [
       "'error'"
      ]
     },
     "execution_count": 17,
     "metadata": {},
     "output_type": "execute_result"
    }
   ],
   "source": [
    "_str = input(\"Enter your course name: \")\n",
    "str_check = lambda x: x if x[0] == \"d\" or x[0] == \"D\" else \"error\"\n",
    "str_check(_str)"
   ]
  },
  {
   "cell_type": "code",
   "execution_count": 19,
   "id": "d3b996bb-a8e6-446a-9aaa-19f5604107d1",
   "metadata": {},
   "outputs": [
    {
     "name": "stdin",
     "output_type": "stream",
     "text": [
      "Enter your password:  jcsbjk\n"
     ]
    },
    {
     "data": {
      "text/plain": [
       "'invalid password'"
      ]
     },
     "execution_count": 19,
     "metadata": {},
     "output_type": "execute_result"
    }
   ],
   "source": [
    "_str2 = input(\"Enter your password: \")\n",
    "pass_check = lambda x: x if x.isnumeric() else \"invalid password\"\n",
    "pass_check(_str2)"
   ]
  },
  {
   "cell_type": "code",
   "execution_count": 29,
   "id": "f1d4cd7f-f210-4185-a9bc-376b41a4da08",
   "metadata": {},
   "outputs": [
    {
     "name": "stdout",
     "output_type": "stream",
     "text": [
      "[('orange', 80), ('mango', 99), ('grapes', 1000)]\n"
     ]
    }
   ],
   "source": [
    "fruits = [(\"mango\",99),(\"orange\",80),(\"grapes\",1000)]\n",
    "fruits.sort(key = lambda x: x[1])\n",
    "print(fruits)"
   ]
  },
  {
   "cell_type": "code",
   "execution_count": 36,
   "id": "c28dd219-7daf-4793-90db-bd36d55e8b1b",
   "metadata": {},
   "outputs": [
    {
     "data": {
      "text/plain": [
       "[1, 4, 9, 16, 25, 36, 49, 64, 81, 100]"
      ]
     },
     "execution_count": 36,
     "metadata": {},
     "output_type": "execute_result"
    }
   ],
   "source": [
    "squares = [i*i for i in range(1,11)]\n",
    "squares"
   ]
  },
  {
   "cell_type": "code",
   "execution_count": 27,
   "id": "7974229b-0246-4ddd-92ed-29f07a5d10b7",
   "metadata": {},
   "outputs": [
    {
     "data": {
      "text/plain": [
       "(1.0,\n",
       " 1.2599210498948732,\n",
       " 1.4422495703074083,\n",
       " 1.5874010519681994,\n",
       " 1.7099759466766968,\n",
       " 1.8171205928321397,\n",
       " 1.912931182772389,\n",
       " 2.0,\n",
       " 2.080083823051904,\n",
       " 2.154434690031884)"
      ]
     },
     "execution_count": 27,
     "metadata": {},
     "output_type": "execute_result"
    }
   ],
   "source": [
    "tuple(map(lambda x: x**(1/3), list(range(1,11))))"
   ]
  },
  {
   "cell_type": "code",
   "execution_count": 34,
   "id": "9a73c4a5-d0cc-4e64-afe2-5e5114bf6f2d",
   "metadata": {},
   "outputs": [
    {
     "name": "stdin",
     "output_type": "stream",
     "text": [
      "Enter a number:  87\n"
     ]
    },
    {
     "data": {
      "text/plain": [
       "'odd'"
      ]
     },
     "execution_count": 34,
     "metadata": {},
     "output_type": "execute_result"
    }
   ],
   "source": [
    "num = int(input(\"Enter a number: \"))\n",
    "check = lambda x: \"even\" if x%2==0 else \"odd\"\n",
    "check(num)"
   ]
  },
  {
   "cell_type": "code",
   "execution_count": 37,
   "id": "42f98b6e-89d9-4ffc-860d-4ecf102cdd2e",
   "metadata": {},
   "outputs": [
    {
     "data": {
      "text/plain": [
       "[1, 3, 5, 7, 9]"
      ]
     },
     "execution_count": 37,
     "metadata": {},
     "output_type": "execute_result"
    }
   ],
   "source": [
    "_list = [1,2,3,4,5,6,7,8,9,10]\n",
    "list(filter(lambda x: x%2!=0, _list))"
   ]
  },
  {
   "cell_type": "code",
   "execution_count": 42,
   "id": "7757e40f-a96a-4d9d-900f-92d8f156c335",
   "metadata": {},
   "outputs": [
    {
     "name": "stdout",
     "output_type": "stream",
     "text": [
      "Positive integers: [1, 2, 3, 4, 5, 6, 0]\n",
      "Negative integers: [-1, -2, -3, -4, -5]\n"
     ]
    }
   ],
   "source": [
    "_list2 = [1,2,3,4,5,6,-1,-2,-3,-4,-5,0]\n",
    "pos_int = list(filter(lambda x: x>=0, _list2))\n",
    "print(\"Positive integers:\",pos_int)\n",
    "neg_int = list(filter(lambda x: x<0, _list2))\n",
    "print(\"Negative integers:\",neg_int)"
   ]
  },
  {
   "cell_type": "code",
   "execution_count": null,
   "id": "35265b7c-5e59-488d-85a0-c73698076335",
   "metadata": {},
   "outputs": [],
   "source": []
  }
 ],
 "metadata": {
  "kernelspec": {
   "display_name": "Python 3 (ipykernel)",
   "language": "python",
   "name": "python3"
  },
  "language_info": {
   "codemirror_mode": {
    "name": "ipython",
    "version": 3
   },
   "file_extension": ".py",
   "mimetype": "text/x-python",
   "name": "python",
   "nbconvert_exporter": "python",
   "pygments_lexer": "ipython3",
   "version": "3.10.8"
  }
 },
 "nbformat": 4,
 "nbformat_minor": 5
}
